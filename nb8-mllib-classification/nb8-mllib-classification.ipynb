{
 "metadata": {
  "name": "",
  "signature": "sha256:6d2880c2d0a96d784b9b4109bfb338c6f232db4a7c6d16ed227ee9d3751d7124"
 },
 "nbformat": 3,
 "nbformat_minor": 0,
 "worksheets": [
  {
   "cells": [
    {
     "cell_type": "heading",
     "level": 1,
     "metadata": {},
     "source": [
      "Mllib: Classification with Logistic Regression  "
     ]
    },
    {
     "cell_type": "markdown",
     "metadata": {},
     "source": [
      "[Introduction to Spark with Python, by Jose A. Dianes](https://github.com/jadianes/spark-py-notebooks)"
     ]
    },
    {
     "cell_type": "code",
     "collapsed": false,
     "input": [],
     "language": "python",
     "metadata": {},
     "outputs": []
    }
   ],
   "metadata": {}
  }
 ]
}