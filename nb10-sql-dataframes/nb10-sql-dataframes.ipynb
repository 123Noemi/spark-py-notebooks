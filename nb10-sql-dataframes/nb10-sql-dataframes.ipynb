{
 "metadata": {
  "name": "",
  "signature": "sha256:077ad2d87187390d28402105c52d9fb54c93f265a821f474f9c0713c6ed6a140"
 },
 "nbformat": 3,
 "nbformat_minor": 0,
 "worksheets": [
  {
   "cells": [
    {
     "cell_type": "heading",
     "level": 1,
     "metadata": {},
     "source": [
      "Spark SQL and Data Frames"
     ]
    },
    {
     "cell_type": "markdown",
     "metadata": {},
     "source": [
      "[Introduction to Spark with Python, by Jose A. Dianes](http://jadianes.github.io/spark-py-notebooks)"
     ]
    },
    {
     "cell_type": "markdown",
     "metadata": {},
     "source": []
    },
    {
     "cell_type": "heading",
     "level": 2,
     "metadata": {},
     "source": [
      "Getting the data and creating the RDD"
     ]
    },
    {
     "cell_type": "markdown",
     "metadata": {},
     "source": [
      "As we did in previous notebooks, we will use the reduced dataset (10 percent) provided for the [KDD Cup 1999](http://kdd.ics.uci.edu/databases/kddcup99/kddcup99.html), containing nearly half million nework interactions. The file is provided as a Gzip file that we will download locally.  "
     ]
    },
    {
     "cell_type": "code",
     "collapsed": false,
     "input": [
      "import urllib\n",
      "f = urllib.urlretrieve (\"http://kdd.ics.uci.edu/databases/kddcup99/kddcup.data_10_percent.gz\", \"kddcup.data_10_percent.gz\")"
     ],
     "language": "python",
     "metadata": {},
     "outputs": [],
     "prompt_number": 1
    },
    {
     "cell_type": "code",
     "collapsed": false,
     "input": [
      "data_file = \"./kddcup.data_10_percent.gz\"\n",
      "raw_data = sc.textFile(data_file).cache()"
     ],
     "language": "python",
     "metadata": {},
     "outputs": [],
     "prompt_number": 2
    },
    {
     "cell_type": "heading",
     "level": 2,
     "metadata": {},
     "source": [
      "Getting a Data Frame"
     ]
    },
    {
     "cell_type": "markdown",
     "metadata": {},
     "source": [
      "A Spark `DataFrame` is a distributed collection of data organized into named columns. It is conceptually equivalent to a table in a relational database or a data frame in R or Pandas. They can be constructed from a wide array of sources such as a existing RDD in our case."
     ]
    },
    {
     "cell_type": "markdown",
     "metadata": {},
     "source": [
      "The entry point into all SQL functionality in Spark is the `SQLContext` class. To create a basic instance, all we need is a `SparkContext` reference. Since we are running Spark in shell mode (using pySpark) we can use the global context object `sc` for this purpose.    "
     ]
    },
    {
     "cell_type": "code",
     "collapsed": false,
     "input": [
      "from pyspark.sql import SQLContext\n",
      "sqlContext = SQLContext(sc)"
     ],
     "language": "python",
     "metadata": {},
     "outputs": [],
     "prompt_number": 3
    },
    {
     "cell_type": "heading",
     "level": 3,
     "metadata": {},
     "source": [
      "Inferring the schema"
     ]
    },
    {
     "cell_type": "markdown",
     "metadata": {},
     "source": [
      "With a `SQLContext`, we are ready to create a `DataFrame` from our existing RDD. But first we need to tell Spark SQL the schema in our data.   "
     ]
    },
    {
     "cell_type": "markdown",
     "metadata": {},
     "source": [
      "Spark SQL can convert an RDD of `Row` objects to a `DataFrame`. Rows are constructed by passing a list of key/value pairs as *kwargs* to the `Row` class. The keys define the column names, and the types are inferred by looking at the first row. Therefore, it is important that there is no missing data in the first row of the RDD in order to properly infer the schema."
     ]
    },
    {
     "cell_type": "markdown",
     "metadata": {},
     "source": [
      "In our case, we first need to split the comma separated data, and then use the information in KDD's 1999 task description to obtain the [column names](http://kdd.ics.uci.edu/databases/kddcup99/kddcup.names).  "
     ]
    },
    {
     "cell_type": "code",
     "collapsed": false,
     "input": [
      "from pyspark.sql import Row\n",
      "\n",
      "csv_data = raw_data.map(lambda l: l.split(\",\"))\n",
      "row_data = csv_data.map(lambda p: Row(\n",
      "    duration=int(p[0]), \n",
      "    protocol_type=p[1],\n",
      "    service=p[2],\n",
      "    flag=p[3],\n",
      "    src_bytes=int(p[4]),\n",
      "    dst_bytes=int(p[5])\n",
      "    )\n",
      ")"
     ],
     "language": "python",
     "metadata": {},
     "outputs": [],
     "prompt_number": 16
    },
    {
     "cell_type": "markdown",
     "metadata": {},
     "source": [
      "Once we have our RDD of `Row` we can infer and register the schema.  "
     ]
    },
    {
     "cell_type": "code",
     "collapsed": false,
     "input": [
      "schema_interactions = sqlContext.inferSchema(row_data)\n",
      "schema_interactions.registerTempTable(\"interactions\")"
     ],
     "language": "python",
     "metadata": {},
     "outputs": [],
     "prompt_number": 17
    },
    {
     "cell_type": "markdown",
     "metadata": {},
     "source": [
      "Now we can run SQL queries over our data frame that has been registered as a table. The results of SQL queries are RDDs and support all the normal RDD operations.  "
     ]
    },
    {
     "cell_type": "code",
     "collapsed": false,
     "input": [
      "# Select tcp network interactions with more than 1 second duration and no transfer from destination\n",
      "tcp_interactions = sqlContext.sql(\"\"\"\n",
      "    SELECT duration, dst_bytes FROM interactions WHERE protocol_type = 'tcp' AND duration > 1000 AND dst_bytes = 0\n",
      "\"\"\")\n",
      "\n",
      "# Output duration together with dst_bytes\n",
      "tcp_interactions_out = tcp_interactions.map(lambda p: \"Duration: {}, Dest. bytes: {}\".format(p.duration, p.dst_bytes))\n",
      "for ti_out in tcp_interactions_out.collect():\n",
      "  print ti_out"
     ],
     "language": "python",
     "metadata": {},
     "outputs": [
      {
       "output_type": "stream",
       "stream": "stdout",
       "text": [
        "Duration: 5057, Dest. bytes: 0\n",
        "Duration: 5059, Dest. bytes: 0\n",
        "Duration: 5051, Dest. bytes: 0\n",
        "Duration: 5056, Dest. bytes: 0\n",
        "Duration: 5051, Dest. bytes: 0\n",
        "Duration: 5039, Dest. bytes: 0\n",
        "Duration: 5062, Dest. bytes: 0\n",
        "Duration: 5041, Dest. bytes: 0\n",
        "Duration: 5056, Dest. bytes: 0\n",
        "Duration: 5064, Dest. bytes: 0\n",
        "Duration: 5043, Dest. bytes: 0\n",
        "Duration: 5061, Dest. bytes: 0\n",
        "Duration: 5049, Dest. bytes: 0\n",
        "Duration: 5061, Dest. bytes: 0\n",
        "Duration: 5048, Dest. bytes: 0\n",
        "Duration: 5047, Dest. bytes: 0\n",
        "Duration: 5044, Dest. bytes: 0\n",
        "Duration: 5063, Dest. bytes: 0\n",
        "Duration: 5068, Dest. bytes: 0\n",
        "Duration: 5062, Dest. bytes: 0\n",
        "Duration: 5046, Dest. bytes: 0\n",
        "Duration: 5052, Dest. bytes: 0\n",
        "Duration: 5044, Dest. bytes: 0\n",
        "Duration: 5054, Dest. bytes: 0\n",
        "Duration: 5039, Dest. bytes: 0\n",
        "Duration: 5058, Dest. bytes: 0\n",
        "Duration: 5051, Dest. bytes: 0\n",
        "Duration: 5032, Dest. bytes: 0\n",
        "Duration: 5063, Dest. bytes: 0\n",
        "Duration: 5040, Dest. bytes: 0\n",
        "Duration: 5051, Dest. bytes: 0\n",
        "Duration: 5066, Dest. bytes: 0\n",
        "Duration: 5044, Dest. bytes: 0\n",
        "Duration: 5051, Dest. bytes: 0\n",
        "Duration: 5036, Dest. bytes: 0\n",
        "Duration: 5055, Dest. bytes: 0\n",
        "Duration: 2426, Dest. bytes: 0\n",
        "Duration: 5047, Dest. bytes: 0\n",
        "Duration: 5057, Dest. bytes: 0\n",
        "Duration: 5037, Dest. bytes: 0\n",
        "Duration: 5057, Dest. bytes: 0\n",
        "Duration: 5062, Dest. bytes: 0\n",
        "Duration: 5051, Dest. bytes: 0\n",
        "Duration: 5051, Dest. bytes: 0\n",
        "Duration: 5053, Dest. bytes: 0\n",
        "Duration: 5064, Dest. bytes: 0\n",
        "Duration: 5044, Dest. bytes: 0\n",
        "Duration: 5051, Dest. bytes: 0\n",
        "Duration: 5033, Dest. bytes: 0\n",
        "Duration: 5066, Dest. bytes: 0\n",
        "Duration: 5063, Dest. bytes: 0\n",
        "Duration: 5056, Dest. bytes: 0\n",
        "Duration: 5042, Dest. bytes: 0\n",
        "Duration: 5063, Dest. bytes: 0\n",
        "Duration: 5060, Dest. bytes: 0\n",
        "Duration: 5056, Dest. bytes: 0\n",
        "Duration: 5049, Dest. bytes: 0\n",
        "Duration: 5043, Dest. bytes: 0\n",
        "Duration: 5039, Dest. bytes: 0\n",
        "Duration: 5041, Dest. bytes: 0\n",
        "Duration: 42448, Dest. bytes: 0\n",
        "Duration: 42088, Dest. bytes: 0\n",
        "Duration: 41065, Dest. bytes: 0\n",
        "Duration: 40929, Dest. bytes: 0\n",
        "Duration: 40806, Dest. bytes: 0\n",
        "Duration: 40682, Dest. bytes: 0\n",
        "Duration: 40571, Dest. bytes: 0\n",
        "Duration: 40448, Dest. bytes: 0\n",
        "Duration: 40339, Dest. bytes: 0\n",
        "Duration: 40232, Dest. bytes: 0\n",
        "Duration: 40121, Dest. bytes: 0\n",
        "Duration: 36783, Dest. bytes: 0\n",
        "Duration: 36674, Dest. bytes: 0\n",
        "Duration: 36570, Dest. bytes: 0\n",
        "Duration: 36467, Dest. bytes: 0\n",
        "Duration: 36323, Dest. bytes: 0\n",
        "Duration: 36204, Dest. bytes: 0\n",
        "Duration: 32038, Dest. bytes: 0\n",
        "Duration: 31925, Dest. bytes: 0\n",
        "Duration: 31809, Dest. bytes: 0\n",
        "Duration: 31709, Dest. bytes: 0\n",
        "Duration: 31601, Dest. bytes: 0\n",
        "Duration: 31501, Dest. bytes: 0\n",
        "Duration: 31401, Dest. bytes: 0\n",
        "Duration: 31301, Dest. bytes: 0\n",
        "Duration: 31194, Dest. bytes: 0\n",
        "Duration: 31061, Dest. bytes: 0\n",
        "Duration: 30935, Dest. bytes: 0\n",
        "Duration: 30835, Dest. bytes: 0\n",
        "Duration: 30735, Dest. bytes: 0\n",
        "Duration: 30619, Dest. bytes: 0\n",
        "Duration: 30518, Dest. bytes: 0\n",
        "Duration: 30418, Dest. bytes: 0\n",
        "Duration: 30317, Dest. bytes: 0\n",
        "Duration: 30217, Dest. bytes: 0\n",
        "Duration: 30077, Dest. bytes: 0\n",
        "Duration: 25420, Dest. bytes: 0\n",
        "Duration: 22921, Dest. bytes: 0\n",
        "Duration: 22821, Dest. bytes: 0\n",
        "Duration: 22721, Dest. bytes: 0\n",
        "Duration: 22616, Dest. bytes: 0\n",
        "Duration: 22516, Dest. bytes: 0\n",
        "Duration: 22416, Dest. bytes: 0\n",
        "Duration: 22316, Dest. bytes: 0\n",
        "Duration: 22216, Dest. bytes: 0\n",
        "Duration: 21987, Dest. bytes: 0\n",
        "Duration: 21887, Dest. bytes: 0\n",
        "Duration: 21767, Dest. bytes: 0\n",
        "Duration: 21661, Dest. bytes: 0\n",
        "Duration: 21561, Dest. bytes: 0\n",
        "Duration: 21455, Dest. bytes: 0\n",
        "Duration: 21334, Dest. bytes: 0\n",
        "Duration: 21223, Dest. bytes: 0\n",
        "Duration: 21123, Dest. bytes: 0\n",
        "Duration: 20983, Dest. bytes: 0\n",
        "Duration: 14682, Dest. bytes: 0\n",
        "Duration: 14420, Dest. bytes: 0\n",
        "Duration: 14319, Dest. bytes: 0\n",
        "Duration: 14198, Dest. bytes: 0\n",
        "Duration: 14098, Dest. bytes: 0\n",
        "Duration: 13998, Dest. bytes: 0\n",
        "Duration: 13898, Dest. bytes: 0\n",
        "Duration: 13796, Dest. bytes: 0\n",
        "Duration: 13678, Dest. bytes: 0\n",
        "Duration: 13578, Dest. bytes: 0\n",
        "Duration: 13448, Dest. bytes: 0\n",
        "Duration: 13348, Dest. bytes: 0\n",
        "Duration: 13241, Dest. bytes: 0\n",
        "Duration: 13141, Dest. bytes: 0\n",
        "Duration: 13033, Dest. bytes: 0\n",
        "Duration: 12933, Dest. bytes: 0\n",
        "Duration: 12833, Dest. bytes: 0\n",
        "Duration: 12733, Dest. bytes: 0\n",
        "Duration: 12001, Dest. bytes: 0\n",
        "Duration: 5678, Dest. bytes: 0\n",
        "Duration: 5010, Dest. bytes: 0\n",
        "Duration: 1298, Dest. bytes: 0\n",
        "Duration: 1031, Dest. bytes: 0\n",
        "Duration: 36438, Dest. bytes: 0\n"
       ]
      }
     ],
     "prompt_number": 23
    },
    {
     "cell_type": "markdown",
     "metadata": {},
     "source": [
      "We can easily have a look at our data frame schema using `printSchema`.  "
     ]
    },
    {
     "cell_type": "code",
     "collapsed": false,
     "input": [
      "schema_interactions.printSchema()"
     ],
     "language": "python",
     "metadata": {},
     "outputs": [
      {
       "output_type": "stream",
       "stream": "stdout",
       "text": [
        "root\n",
        " |-- dst_bytes: long (nullable = true)\n",
        " |-- duration: long (nullable = true)\n",
        " |-- flag: string (nullable = true)\n",
        " |-- protocol_type: string (nullable = true)\n",
        " |-- service: string (nullable = true)\n",
        " |-- src_bytes: long (nullable = true)\n",
        "\n"
       ]
      }
     ],
     "prompt_number": 24
    },
    {
     "cell_type": "code",
     "collapsed": false,
     "input": [],
     "language": "python",
     "metadata": {},
     "outputs": []
    }
   ],
   "metadata": {}
  }
 ]
}