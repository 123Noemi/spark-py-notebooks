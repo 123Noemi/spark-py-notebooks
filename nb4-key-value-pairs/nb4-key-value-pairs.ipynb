{
 "metadata": {
  "name": "",
  "signature": "sha256:239d52490d6786e1e780a62ddd71ff3201b0459e84e3705aef8d1c7587aa4e03"
 },
 "nbformat": 3,
 "nbformat_minor": 0,
 "worksheets": [
  {
   "cells": [
    {
     "cell_type": "code",
     "collapsed": false,
     "input": [],
     "language": "python",
     "metadata": {},
     "outputs": []
    }
   ],
   "metadata": {}
  }
 ]
}