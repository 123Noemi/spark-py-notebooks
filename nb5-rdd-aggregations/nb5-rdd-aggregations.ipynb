{
 "metadata": {
  "name": "",
  "signature": "sha256:2d948882edf191d8207892fb0d28a93f24abd9f32239d9bcc6daf5d055b44238"
 },
 "nbformat": 3,
 "nbformat_minor": 0,
 "worksheets": [
  {
   "cells": [
    {
     "cell_type": "heading",
     "level": 1,
     "metadata": {},
     "source": [
      "Data aggregations on RDDs"
     ]
    },
    {
     "cell_type": "markdown",
     "metadata": {},
     "source": [
      "We can aggregate RDD data in Spark by using three different actions: `reduce`, `fold`, and `aggregate`. The last one is the more general one and someway includes the first two.  "
     ]
    },
    {
     "cell_type": "heading",
     "level": 2,
     "metadata": {},
     "source": [
      "Getting the data and creating the RDD"
     ]
    },
    {
     "cell_type": "markdown",
     "metadata": {},
     "source": [
      "As we did in our first notebook, we will use the reduced dataset (10 percent) provided for the KDD Cup 1999, containing nearly half million nework interactions. The file is provided as a Gzip file that we will download locally.  "
     ]
    },
    {
     "cell_type": "code",
     "collapsed": false,
     "input": [
      "import urllib\n",
      "f = urllib.urlretrieve (\"http://kdd.ics.uci.edu/databases/kddcup99/kddcup.data_10_percent.gz\", \"kddcup.data_10_percent.gz\")"
     ],
     "language": "python",
     "metadata": {},
     "outputs": [],
     "prompt_number": 1
    },
    {
     "cell_type": "code",
     "collapsed": false,
     "input": [
      "data_file = \"./kddcup.data_10_percent.gz\"\n",
      "raw_data = sc.textFile(data_file)"
     ],
     "language": "python",
     "metadata": {},
     "outputs": [],
     "prompt_number": 2
    },
    {
     "cell_type": "heading",
     "level": 2,
     "metadata": {},
     "source": [
      "Inspecting interaction duration by tag"
     ]
    },
    {
     "cell_type": "markdown",
     "metadata": {},
     "source": [
      "Both `fold` and `reduce` take a function as an argument that is applied to two elements of the RDD. The `fold` action differs from `reduce` in that it gets and additional initial *zero value* to be used for the initial call. This value should be the identity element for the function provided.  "
     ]
    },
    {
     "cell_type": "markdown",
     "metadata": {},
     "source": [
      "As an example, imagine we want to know the total duration of our interactions for normal and attack interactions. We can use `reduce` as follows.    "
     ]
    },
    {
     "cell_type": "code",
     "collapsed": false,
     "input": [
      "# parse data\n",
      "csv_data = raw_data.map(lambda x: x.split(\",\"))\n",
      "\n",
      "# separate into different RDDs\n",
      "normal_csv_data = csv_data.filter(lambda x: x[41]==\"normal.\")\n",
      "attack_csv_data = csv_data.filter(lambda x: x[41]!=\"normal.\")"
     ],
     "language": "python",
     "metadata": {},
     "outputs": [],
     "prompt_number": 28
    },
    {
     "cell_type": "markdown",
     "metadata": {},
     "source": [
      "The function that we pass to `reduce` gets and returns elements of the same type of the RDD. If we want to sum durations we need to extract that element into a new RDD.  "
     ]
    },
    {
     "cell_type": "code",
     "collapsed": false,
     "input": [
      "normal_duration_data = normal_csv_data.map(lambda x: int(x[0]))\n",
      "attack_duration_data = attack_csv_data.map(lambda x: int(x[0]))"
     ],
     "language": "python",
     "metadata": {},
     "outputs": [],
     "prompt_number": 29
    },
    {
     "cell_type": "markdown",
     "metadata": {},
     "source": [
      "Now we can reduce these new RDDs.  "
     ]
    },
    {
     "cell_type": "code",
     "collapsed": false,
     "input": [
      "total_normal_duration = normal_duration_data.reduce(lambda x, y: x + y)\n",
      "total_attack_duration = attack_duration_data.reduce(lambda x, y: x + y)\n",
      "\n",
      "print \"Total duration for 'normal' interactions is {}\".\\\n",
      "    format(total_normal_duration)\n",
      "print \"Total duration for 'attack' interactions is {}\".\\\n",
      "    format(total_attack_duration)"
     ],
     "language": "python",
     "metadata": {},
     "outputs": [
      {
       "output_type": "stream",
       "stream": "stdout",
       "text": [
        "Total duration for 'normal' interactions is 21075991\n",
        "Total duration for 'attack' interactions is 2626792\n"
       ]
      }
     ],
     "prompt_number": 30
    },
    {
     "cell_type": "markdown",
     "metadata": {},
     "source": [
      "We can go further and use counts to calculate duration means.  "
     ]
    },
    {
     "cell_type": "code",
     "collapsed": false,
     "input": [
      "normal_count = normal_duration_data.count()\n",
      "attack_count = attack_duration_data.count()\n",
      "\n",
      "print \"Mean duration for 'normal' interactions is {}\".\\\n",
      "    format(round(total_normal_duration/normal_count,3))\n",
      "print \"Mean duration for 'attack' interactions is {}\".\\\n",
      "    format(round(total_attack_duration/attack_count,3))"
     ],
     "language": "python",
     "metadata": {},
     "outputs": [
      {
       "output_type": "stream",
       "stream": "stdout",
       "text": [
        "Mean duration for 'normal' interactions is 216.0\n",
        "Mean duration for 'attack' interactions is 6.0\n"
       ]
      }
     ],
     "prompt_number": 31
    },
    {
     "cell_type": "markdown",
     "metadata": {},
     "source": [
      "We have a first (and too simplistic) approach to identify attack interactions."
     ]
    },
    {
     "cell_type": "heading",
     "level": 2,
     "metadata": {},
     "source": [
      "A simpler way using `aggregate`  "
     ]
    },
    {
     "cell_type": "code",
     "collapsed": false,
     "input": [],
     "language": "python",
     "metadata": {},
     "outputs": []
    }
   ],
   "metadata": {}
  }
 ]
}